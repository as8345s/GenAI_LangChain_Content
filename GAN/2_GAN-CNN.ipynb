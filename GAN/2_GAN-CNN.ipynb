{
 "cells": [
  {
   "cell_type": "markdown",
   "id": "eb64785e-4a9e-4a71-bc74-c90bf0bc86a9",
   "metadata": {},
   "source": [
    "<h1> GAN - CNN</h1>"
   ]
  },
  {
   "cell_type": "markdown",
   "id": "a7dc7bde-fbc1-4aa3-ac04-a0693023b2b8",
   "metadata": {},
   "source": [
    "Dieses Notebook basiert auf \"1_intoduce-GAN-ANN\". Diesmal wird ein CNN Netz angewendet, um die Qualität zu steigern."
   ]
  },
  {
   "cell_type": "markdown",
   "id": "b687d7ad-cfd4-4526-b103-e3b13485b955",
   "metadata": {},
   "source": [
    "<i>Abb1</i>: Übersicht GAN.\n",
    "\n",
    "<img src=\"./data/img/2_gan.PNG\" height=500 width=700>"
   ]
  },
  {
   "cell_type": "markdown",
   "id": "af57e809-a66b-4525-9598-22fcecbe772d",
   "metadata": {},
   "source": [
    "Als Erstes werden wir wieder nur eine Klasse nutzen und versuchen mit einem Generator basierend auf CNN ein Bild zu erzeugen."
   ]
  },
  {
   "cell_type": "markdown",
   "id": "140ab204-c74a-43a6-af9f-d6611eddec27",
   "metadata": {},
   "source": [
    "Als Einstieg soll der Generator ein 100*100 Pixelbild eines Apfels herstellen. "
   ]
  },
  {
   "cell_type": "code",
   "execution_count": 144,
   "id": "d6d12ce3-7d65-4e77-9b96-93e89f9c58d9",
   "metadata": {},
   "outputs": [],
   "source": [
    "# Imports.\n",
    "import tensorflow as tf\n",
    "import numpy as np\n",
    "import matplotlib.pyplot as plt\n",
    "import PIL\n",
    "import os"
   ]
  },
  {
   "cell_type": "markdown",
   "id": "ac2e171c-5350-489c-8a86-c321e1f92387",
   "metadata": {},
   "source": [
    "Hier werden wir die Funktionsweise des Faltungsnetzes umkehren. Zu Beginn geben wir die Dimension des Bildes an, das dann Hochskaliert wird.\n",
    "\n",
    ">tf.keras.layers.Conv2DTranspose:<br>\n",
    ">https://www.tensorflow.org/api_docs/python/tf/keras/layers/Conv2DTranspose [Letzter Zugriff: 23.07.2024]"
   ]
  },
  {
   "cell_type": "markdown",
   "id": "28348799-c61b-4617-a99c-34f7a78b18cd",
   "metadata": {},
   "source": [
    "<h2>Dataset</h2>"
   ]
  },
  {
   "cell_type": "markdown",
   "id": "26512246-9b1d-4b6b-a024-6cb41356d6a3",
   "metadata": {},
   "source": [
    "Wir wollen mit dem Generator syntetische Apfelbilder erzeugen, für das Training nutzen wir ein Dataset das verschiedene Früchte enthählt und wählen eine Sorte aus.\n",
    "\n",
    "> Fruits-360 dataset: A dataset with 90380 images of 131 fruits, vegetables and nuts. <br>\n",
    "> https://www.kaggle.com/datasets/moltean/fruits [Letzter Zugriff: 23.07.2024]"
   ]
  },
  {
   "cell_type": "code",
   "execution_count": 148,
   "id": "d1e47cdb-ec55-4671-bf64-04e30526b892",
   "metadata": {},
   "outputs": [],
   "source": [
    "url=\"data/datasets/archive/fruits-360_dataset/fruits-360/Training/Apple_Pink_Lady/\"\n",
    "img = PIL.Image.open(url+\"0_100.jpg\", mode='r')"
   ]
  },
  {
   "cell_type": "code",
   "execution_count": 150,
   "id": "d99850f1-0059-43d1-91e6-f9b1c3a56c4a",
   "metadata": {},
   "outputs": [
    {
     "data": {
      "text/plain": [
       "(100, 100, 3)"
      ]
     },
     "execution_count": 150,
     "metadata": {},
     "output_type": "execute_result"
    }
   ],
   "source": [
    "np.asarray(img).shape"
   ]
  },
  {
   "cell_type": "code",
   "execution_count": 151,
   "id": "5c0973ce-ed0d-4052-9c5f-0fc59bf19f28",
   "metadata": {},
   "outputs": [
    {
     "data": {
      "image/jpeg": "[encoded data removed]",
      "image/png": "[encoded data removed]",
      "text/plain": [
       "<PIL.JpegImagePlugin.JpegImageFile image mode=RGB size=100x100>"
      ]
     },
     "execution_count": 151,
     "metadata": {},
     "output_type": "execute_result"
    }
   ],
   "source": [
    "img"
   ]
  },
  {
   "cell_type": "code",
   "execution_count": 153,
   "id": "b480dc10-aee4-40ef-a898-3a3d71a834da",
   "metadata": {},
   "outputs": [
    {
     "data": {
      "text/plain": [
       "'0_100.jpg'"
      ]
     },
     "execution_count": 153,
     "metadata": {},
     "output_type": "execute_result"
    }
   ],
   "source": [
    "appleimage_names = os.listdir(url)\n",
    "appleimage_names[0]"
   ]
  },
  {
   "cell_type": "code",
   "execution_count": 156,
   "id": "24026987-fa66-4221-8edc-64f4f2c48778",
   "metadata": {},
   "outputs": [
    {
     "data": {
      "text/plain": [
       "True"
      ]
     },
     "execution_count": 156,
     "metadata": {},
     "output_type": "execute_result"
    }
   ],
   "source": [
    "# Erstelle Numpy Dataset\n",
    "apple_dataset = [np.asarray(PIL.Image.open(url+name, mode='r'))  for name in appleimage_names]\n",
    "len(apple_dataset) == len(appleimage_names)"
   ]
  },
  {
   "cell_type": "code",
   "execution_count": 158,
   "id": "55bdf0ff-bd93-42a9-9163-70fb1ee19087",
   "metadata": {},
   "outputs": [
    {
     "data": {
      "text/plain": [
       "456"
      ]
     },
     "execution_count": 158,
     "metadata": {},
     "output_type": "execute_result"
    }
   ],
   "source": [
    "len(appleimage_names)"
   ]
  },
  {
   "cell_type": "markdown",
   "id": "cdf26cb4-fcb9-4efc-8e32-37e658551f0d",
   "metadata": {},
   "source": [
    "<h2>Aufbau Netz</h2>"
   ]
  },
  {
   "cell_type": "code",
   "execution_count": 208,
   "id": "0b6f0ec8-47c5-432d-90f7-898f25782c32",
   "metadata": {},
   "outputs": [],
   "source": [
    "image_dim = 100*100\n",
    "noise_dim = 125"
   ]
  },
  {
   "cell_type": "code",
   "execution_count": 301,
   "id": "47612929-a8ff-4880-9bd0-6bc676f11f04",
   "metadata": {},
   "outputs": [],
   "source": [
    "# Generator soll Bild erzeugen.\n",
    "def create_generator(img_dim:int=125):\n",
    "    model = tf.keras.Sequential()\n",
    "    # ---- # \n",
    "    model.add(tf.keras.layers.Dense(units=25*25*256, input_shape=(img_dim, ), use_bias=False))\n",
    "    model.add(tf.keras.layers.BatchNormalization())\n",
    "    model.add(tf.keras.layers.LeakyReLU())\n",
    "    model.add(tf.keras.layers.Reshape(( 25, 25, 256)))  # Model Output: (1, 12, 12, 256)\n",
    "    # ---- # \n",
    "    # Transpose # 1\n",
    "    model.add(tf.keras.layers.Conv2DTranspose(filters=128, kernel_size=(4,4),  padding='same', use_bias=False))\n",
    "    model.add(tf.keras.layers.BatchNormalization())\n",
    "    model.add(tf.keras.layers.LeakyReLU())  # Model Output: (1, 25, 25, 256)\n",
    "    # Transpose # 2\n",
    "    model.add(tf.keras.layers.Conv2DTranspose(filters=64, kernel_size=(4,4), strides=(2,2), padding='same', use_bias=False))  # Durch Strides, Filters und Padding wird Output skaliert.\n",
    "    model.add(tf.keras.layers.BatchNormalization())\n",
    "    model.add(tf.keras.layers.LeakyReLU())  # Model Output: (1, 50, 50, 64)\n",
    "    # Transpose # 3\n",
    "    model.add(tf.keras.layers.Conv2DTranspose(filters=32, kernel_size=(4,4), strides=(1,1), padding='same', use_bias=False))  \n",
    "    model.add(tf.keras.layers.BatchNormalization())\n",
    "    model.add(tf.keras.layers.LeakyReLU())  # Model Output: (1, 50, 50, 32)\n",
    "\n",
    "\n",
    "    # Transpose # 4\n",
    "    #model.add(tf.keras.layers.Conv2DTranspose(filters=16, kernel_size=(5,5), strides=(2,2), padding='same', use_bias=False))  \n",
    "    #model.add(tf.keras.layers.BatchNormalization())\n",
    "    #model.add(tf.keras.layers.LeakyReLU())  # Model Output: \n",
    "    # Transpose # 5\n",
    "    #model.add(tf.keras.layers.Conv2DTranspose(filters=8, kernel_size=(5,5), strides=(1,2), padding='same', use_bias=False))  \n",
    "    #model.add(tf.keras.layers.BatchNormalization())\n",
    "    #model.add(tf.keras.layers.LeakyReLU())  \n",
    "    # Transpose 6\n",
    "                                              # Filters 1, 3\n",
    "    model.add(tf.keras.layers.Conv2DTranspose(filters=3, kernel_size=(5,5), strides=(2,2), padding='same', use_bias=False, activation='tanh'))\n",
    "    # Anders als bei einem ANN muss der Output nicht extra \n",
    "\n",
    "    return model\n",
    "    "
   ]
  },
  {
   "cell_type": "markdown",
   "id": "799f096d-6028-4bee-bfe7-380f4338f588",
   "metadata": {},
   "source": [
    "Beim Konstruieren kann so z. B. der Output und die Form eingesehen und weitere Informationen ausgegeben werden.\n",
    "\n",
    "Der Aufbau hier ist wieder recht simpel, wenn es darum geht nur eine Klasse eines Bildes zu erzeugen."
   ]
  },
  {
   "cell_type": "code",
   "execution_count": 375,
   "id": "ce7451b0-04ee-4cab-9dab-6dce587c710f",
   "metadata": {},
   "outputs": [
    {
     "data": {
      "text/plain": [
       "TensorShape([1, 100, 100, 3])"
      ]
     },
     "execution_count": 375,
     "metadata": {},
     "output_type": "execute_result"
    }
   ],
   "source": [
    "noise = np.random.normal(0, 1, (1, 125))  \n",
    "generator = create_generator(noise_dim)\n",
    "img = generator(noise)\n",
    "img.shape"
   ]
  },
  {
   "cell_type": "code",
   "execution_count": 259,
   "id": "4133a614-4be4-4be4-9051-a39c0d0a7b23",
   "metadata": {},
   "outputs": [
    {
     "name": "stderr",
     "output_type": "stream",
     "text": [
      "Clipping input data to the valid range for imshow with RGB data ([0..1] for floats or [0..255] for integers). Got range [-0.022444533..0.022968179].\n"
     ]
    },
    {
     "data": {
      "text/plain": [
       "<matplotlib.image.AxesImage at 0x1490a5a4ee0>"
      ]
     },
     "execution_count": 259,
     "metadata": {},
     "output_type": "execute_result"
    },
    {
     "data": {
      "image/png": "[encoded data removed]",
      "text/plain": [
       "<Figure size 640x480 with 1 Axes>"
      ]
     },
     "metadata": {},
     "output_type": "display_data"
    }
   ],
   "source": [
    "plt.imshow(img[0])"
   ]
  },
  {
   "cell_type": "markdown",
   "id": "59427411-4937-4a65-be5f-b5e1cfa54d99",
   "metadata": {},
   "source": [
    "Jetzt kommt der Discriminator."
   ]
  },
  {
   "cell_type": "code",
   "execution_count": 303,
   "id": "021d42e9-360a-4dd4-b5f4-be31be4190ed",
   "metadata": {},
   "outputs": [],
   "source": [
    "def create_discriminator():\n",
    "    model = tf.keras.Sequential()\n",
    "    # --- # \n",
    "    model.add(tf.keras.layers.Conv2D(filters=64, kernel_size=(4,4), strides=(1,1), input_shape=(100,100,3), padding='same'))\n",
    "    model.add(tf.keras.layers.LeakyReLU())\n",
    "    model.add(tf.keras.layers.Dropout(0.2))\n",
    "    # --- # \n",
    "    model.add(tf.keras.layers.Conv2D(filters=32, kernel_size=(2,2), strides=(1,1), padding='same'))\n",
    "    model.add(tf.keras.layers.LeakyReLU())\n",
    "    model.add(tf.keras.layers.Dropout(0.2))\n",
    "    # --- # \n",
    "    model.add(tf.keras.layers.Conv2D(filters=16, kernel_size=(2,2), strides=(1,1), padding='same'))\n",
    "    model.add(tf.keras.layers.LeakyReLU())\n",
    "    model.add(tf.keras.layers.Dropout(0.2))\n",
    "    # --- # \n",
    "    model.add(tf.keras.layers.Flatten())\n",
    "    model.add(tf.keras.layers.Dense(units=1, activation=\"sigmoid\"))\n",
    "\n",
    "    return model\n",
    "    "
   ]
  },
  {
   "cell_type": "code",
   "execution_count": 304,
   "id": "08a63708-c0ff-451f-80f4-86bdda443d80",
   "metadata": {},
   "outputs": [
    {
     "name": "stdout",
     "output_type": "stream",
     "text": [
      "Model: \"sequential_91\"\n",
      "_________________________________________________________________\n",
      " Layer (type)                Output Shape              Param #   \n",
      "=================================================================\n",
      " conv2d_47 (Conv2D)          (None, 100, 100, 64)      3136      \n",
      "                                                                 \n",
      " leaky_re_lu_295 (LeakyReLU)  (None, 100, 100, 64)     0         \n",
      "                                                                 \n",
      " dropout_42 (Dropout)        (None, 100, 100, 64)      0         \n",
      "                                                                 \n",
      " conv2d_48 (Conv2D)          (None, 100, 100, 32)      8224      \n",
      "                                                                 \n",
      " leaky_re_lu_296 (LeakyReLU)  (None, 100, 100, 32)     0         \n",
      "                                                                 \n",
      " dropout_43 (Dropout)        (None, 100, 100, 32)      0         \n",
      "                                                                 \n",
      " conv2d_49 (Conv2D)          (None, 100, 100, 16)      2064      \n",
      "                                                                 \n",
      " leaky_re_lu_297 (LeakyReLU)  (None, 100, 100, 16)     0         \n",
      "                                                                 \n",
      " dropout_44 (Dropout)        (None, 100, 100, 16)      0         \n",
      "                                                                 \n",
      " flatten_14 (Flatten)        (None, 160000)            0         \n",
      "                                                                 \n",
      " dense_86 (Dense)            (None, 1)                 160001    \n",
      "                                                                 \n",
      "=================================================================\n",
      "Total params: 173,425\n",
      "Trainable params: 173,425\n",
      "Non-trainable params: 0\n",
      "_________________________________________________________________\n"
     ]
    }
   ],
   "source": [
    "discriminator = create_discriminator()\n",
    "discriminator.build(input_shape=(1,104,104,3))\n",
    "discriminator.summary()"
   ]
  },
  {
   "cell_type": "code",
   "execution_count": 305,
   "id": "4deba216-f195-45f4-822a-f73204e76c10",
   "metadata": {},
   "outputs": [
    {
     "data": {
      "text/plain": [
       "TensorShape([1, 100, 100, 3])"
      ]
     },
     "execution_count": 305,
     "metadata": {},
     "output_type": "execute_result"
    }
   ],
   "source": [
    "img.shape"
   ]
  },
  {
   "cell_type": "code",
   "execution_count": 306,
   "id": "5fd4a8fc-a4ea-43a5-ab2b-764511369c8b",
   "metadata": {},
   "outputs": [
    {
     "data": {
      "text/plain": [
       "<tf.Tensor: shape=(1, 1), dtype=float32, numpy=array([[0.49982595]], dtype=float32)>"
      ]
     },
     "execution_count": 306,
     "metadata": {},
     "output_type": "execute_result"
    }
   ],
   "source": [
    "discriminator(img)"
   ]
  },
  {
   "cell_type": "code",
   "execution_count": 309,
   "id": "7ed5cc6c-6d09-4fd5-ad39-2990dbdea7ff",
   "metadata": {},
   "outputs": [
    {
     "data": {
      "text/plain": [
       "<tf.Tensor: shape=(1, 1), dtype=float32, numpy=array([[0.52365184]], dtype=float32)>"
      ]
     },
     "execution_count": 309,
     "metadata": {},
     "output_type": "execute_result"
    }
   ],
   "source": [
    "discriminator(apple_dataset_numpy[0].reshape((-1, 100, 100, 3)))"
   ]
  },
  {
   "cell_type": "markdown",
   "id": "15016d2d-ce66-4454-8a24-3d7f43782a2d",
   "metadata": {},
   "source": [
    "<h2>Training 1</h2>"
   ]
  },
  {
   "cell_type": "markdown",
   "id": "74356275-50bf-4018-8bb6-a8ddcd34a905",
   "metadata": {},
   "source": [
    "Danach erstellen wir das GAN-Netzwerk und trainieren es."
   ]
  },
  {
   "cell_type": "code",
   "execution_count": 415,
   "id": "30e172e0-8853-4219-ac90-ced187117746",
   "metadata": {},
   "outputs": [],
   "source": [
    "# Erstelle Modelle. \n",
    "generator     = create_generator()\n",
    "discriminator = create_discriminator()"
   ]
  },
  {
   "cell_type": "code",
   "execution_count": 416,
   "id": "2bf2d8a8-de85-466a-b7cc-e116592035fe",
   "metadata": {},
   "outputs": [],
   "source": [
    "# Kompiliere Modelle.\n",
    "generator.compile(optimizer='adam', loss='binary_crossentropy')\n",
    "\n",
    "discriminator.compile(\n",
    "    optimizer = 'adam',\n",
    "    loss      = 'binary_crossentropy'\n",
    ")"
   ]
  },
  {
   "cell_type": "code",
   "execution_count": 316,
   "id": "582e7db4-0172-41db-8048-527da8bd202f",
   "metadata": {
    "scrolled": true
   },
   "outputs": [
    {
     "data": {
      "text/plain": [
       "<tf.Tensor: shape=(1, 100, 100, 3), dtype=float64, numpy=\n",
       "array([[[[1., 1., 1.],\n",
       "         [1., 1., 1.],\n",
       "         [1., 1., 1.],\n",
       "         ...,\n",
       "         [1., 1., 1.],\n",
       "         [1., 1., 1.],\n",
       "         [1., 1., 1.]],\n",
       "\n",
       "        [[1., 1., 1.],\n",
       "         [1., 1., 1.],\n",
       "         [1., 1., 1.],\n",
       "         ...,\n",
       "         [1., 1., 1.],\n",
       "         [1., 1., 1.],\n",
       "         [1., 1., 1.]],\n",
       "\n",
       "        [[1., 1., 1.],\n",
       "         [1., 1., 1.],\n",
       "         [1., 1., 1.],\n",
       "         ...,\n",
       "         [1., 1., 1.],\n",
       "         [1., 1., 1.],\n",
       "         [1., 1., 1.]],\n",
       "\n",
       "        ...,\n",
       "\n",
       "        [[1., 1., 1.],\n",
       "         [1., 1., 1.],\n",
       "         [1., 1., 1.],\n",
       "         ...,\n",
       "         [1., 1., 1.],\n",
       "         [1., 1., 1.],\n",
       "         [1., 1., 1.]],\n",
       "\n",
       "        [[1., 1., 1.],\n",
       "         [1., 1., 1.],\n",
       "         [1., 1., 1.],\n",
       "         ...,\n",
       "         [1., 1., 1.],\n",
       "         [1., 1., 1.],\n",
       "         [1., 1., 1.]],\n",
       "\n",
       "        [[1., 1., 1.],\n",
       "         [1., 1., 1.],\n",
       "         [1., 1., 1.],\n",
       "         ...,\n",
       "         [1., 1., 1.],\n",
       "         [1., 1., 1.],\n",
       "         [1., 1., 1.]]]])>"
      ]
     },
     "execution_count": 316,
     "metadata": {},
     "output_type": "execute_result"
    }
   ],
   "source": [
    "tf.convert_to_tensor(apple_dataset_numpy[1].reshape((-1, 100, 100, 3)))"
   ]
  },
  {
   "cell_type": "code",
   "execution_count": null,
   "id": "1c7c015f-ffa6-475d-a6b0-0bb2e8c22403",
   "metadata": {},
   "outputs": [],
   "source": [
    "discriminator.train_on_batch"
   ]
  },
  {
   "cell_type": "code",
   "execution_count": 409,
   "id": "ee88615a-f4b4-4232-aa9c-cee0164c4371",
   "metadata": {},
   "outputs": [],
   "source": [
    "\n",
    "def train(real_images, generator, discriminator, batch_size:int=16, epoches:int=10):\n",
    "\n",
    "    half_batch = int(batch_size / 2)  \n",
    "    \n",
    "    for epoch in range(epoches):\n",
    "        \n",
    "        index       = np.random.randint(0, real_images.shape[0], half_batch)\n",
    "        real_images = real_images[[4,5,6,7]]#.reshape((-1, 100, 100, 3))\n",
    "        noise       = np.random.normal(0, 1, (half_batch, 125)) \n",
    "        \n",
    "        # Discriminator # \n",
    "        with tf.GradientTape() as d_tape:\n",
    "            generated_images = generator(noise, training=True)\n",
    "            real_output = discriminator(real_images, training=True)\n",
    "            fake_output = discriminator(generated_images, training=True)\n",
    "            \n",
    "            #loss_real = discriminator.train_on_batch(tf.ones_like(real_images) ,tf.convert_to_tensor(real_images))  \n",
    "            #loss_fake = discriminator.train_on_batch(tf.zeros_like(fake_images),fake_output )\n",
    "            loss_real = discriminator.train_on_batch(real_images , np.ones(  (half_batch, 1)))  \n",
    "            loss_fake = discriminator.train_on_batch(generated_images, np.zeros( (half_batch, 1) )) \n",
    "            d_loss = 0.5 * np.add(loss_real, loss_fake) \n",
    "\n",
    "        d_gradients = d_tape.gradient(d_loss, discriminator.trainable_variables)\n",
    "        discriminator.apply_gradients(zip(d_gradients, discriminator.trainable_variables))\n",
    "\n",
    "        #  Generator # \n",
    "        with tf.GradientTape() as g_tape:\n",
    "            generated_images = generator(noise, training=True)\n",
    "            fake_output      = discriminator(generated_images, training=True)\n",
    "            g_loss           = tf.keras.losses.binary_crossentropy(tf.ones_like(fake_output), fake_output)\n",
    "\n",
    "        g_gradients = g_tape.gradient(g_loss, generator.trainable_variables)\n",
    "        generator.optimizer.apply_gradients(zip(g_gradients, generator.trainable_variables))\n",
    "\n",
    "        printf(\"d_loss: {d_loss}, {g_loss}: g_loss\")"
   ]
  },
  {
   "cell_type": "raw",
   "id": "eed7e58b-9b9e-4052-9102-0066805c3145",
   "metadata": {
    "scrolled": true
   },
   "source": [
    "train(apple_dataset_numpy, generator, discriminator, 8)"
   ]
  },
  {
   "cell_type": "code",
   "execution_count": null,
   "id": "72a95d2e-7555-4484-8648-911b98abcb7e",
   "metadata": {},
   "outputs": [],
   "source": []
  },
  {
   "cell_type": "code",
   "execution_count": 386,
   "id": "ac743715-90c6-4dc2-9297-fbaa4c57623b",
   "metadata": {},
   "outputs": [],
   "source": [
    "from tensorflow.python.ops.numpy_ops import np_config\n",
    "np_config.enable_numpy_behavior()"
   ]
  },
  {
   "cell_type": "code",
   "execution_count": null,
   "id": "aa52970b-06c8-4918-923b-11e3edb3683d",
   "metadata": {},
   "outputs": [],
   "source": []
  },
  {
   "cell_type": "code",
   "execution_count": 417,
   "id": "ccc03fbb-415b-49ad-bf4b-40ac547302e6",
   "metadata": {},
   "outputs": [],
   "source": []
  },
  {
   "cell_type": "code",
   "execution_count": null,
   "id": "7c66efa4-aca5-4507-a43c-d1c6829d7f0c",
   "metadata": {},
   "outputs": [],
   "source": []
  },
  {
   "cell_type": "code",
   "execution_count": null,
   "id": "68ae698f-fe97-4b4d-92df-004cbedda5ba",
   "metadata": {},
   "outputs": [],
   "source": []
  },
  {
   "cell_type": "code",
   "execution_count": null,
   "id": "1ef3e9f5-75d2-4377-b5b7-d1f872907c6f",
   "metadata": {},
   "outputs": [],
   "source": []
  },
  {
   "cell_type": "markdown",
   "id": "e1be1def-b83a-4476-87ff-11b4d28b9806",
   "metadata": {},
   "source": [
    "<h2>Training 2</h2>"
   ]
  },
  {
   "cell_type": "code",
   "execution_count": 115,
   "id": "e58f5d5c-3f2b-4e36-8446-02b427c35ee8",
   "metadata": {},
   "outputs": [],
   "source": [
    "def create_GAN(gen, disc):\n",
    "    # Kombiniere.\n",
    "    gan_input   = tf.keras.layers.Input(shape=(125,))  \n",
    "    gen_output = generator(gan_input)\n",
    "\n",
    "    disc_output = discriminator(gen_output)\n",
    "    GAN         = tf.keras.Model(gan_input, disc_output)\n",
    "\n",
    "    GAN.compile(optimizer='adam', loss='binary_crossentropy')"
   ]
  },
  {
   "cell_type": "code",
   "execution_count": null,
   "id": "7c58b4ae-e8d3-46a4-b2c2-52300a462b32",
   "metadata": {},
   "outputs": [],
   "source": []
  }
 ],
 "metadata": {
  "kernelspec": {
   "display_name": "Python 3 (ipykernel)",
   "language": "python",
   "name": "python3"
  },
  "language_info": {
   "codemirror_mode": {
    "name": "ipython",
    "version": 3
   },
   "file_extension": ".py",
   "mimetype": "text/x-python",
   "name": "python",
   "nbconvert_exporter": "python",
   "pygments_lexer": "ipython3",
   "version": "3.9.19"
  }
 },
 "nbformat": 4,
 "nbformat_minor": 5
}
