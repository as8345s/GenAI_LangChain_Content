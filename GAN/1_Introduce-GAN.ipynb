{
 "cells": [
  {
   "cell_type": "markdown",
   "id": "d7680ebd-ae71-4fa5-80dc-626581270f03",
   "metadata": {},
   "source": [
    "<h1>GAN - Generative Adversarial Network</h1>"
   ]
  },
  {
   "cell_type": "markdown",
   "id": "6dc6292a-1179-40d0-bf92-55803f676e64",
   "metadata": {},
   "source": [
    "Ein GAN ist ein Netzwerk, das aus zwei verschiedenen Komponenten besteht. Das Ziel ist es Bilder zu generieren.\n",
    "\n",
    "Ein GAN besteht aus:<br>\n",
    "- Einem Generator, der ein Bild erzeugen soll. Durch Anpassung der Weights kann das Model in eine Richtung gelenkt werden, das am Ende ein Vektor ausgibt das als Bild angezeigt werden kann. Quasi das Gegenteil von einem CNN.\n",
    "- Ein Discriminator, der das Generatornetz evaluiert."
   ]
  },
  {
   "cell_type": "markdown",
   "id": "e1864545-15f8-4e5b-89ca-1943d219ea55",
   "metadata": {},
   "source": [
    "Beide können aus einem ANN oder CNN erstellt werden. Je umfangreicher das Netz ist, desto mehr Features kann es besser Abdecken.\n",
    "\n",
    "Ein einfaches Netz kann aus zwei ANNs erstellt werden. \n",
    "\n",
    "GANs können in verschiedene Use-Cases eingesetzt werden. Um ein erstes einfaches Beispiel zu erstellen, ist die Aufgabe synthetische Bilder von einem Produkt herzustellen was für eine Qualitätskontrolle genutzt werden kann."
   ]
  },
  {
   "cell_type": "markdown",
   "id": "683e8617-f462-4df7-9285-96ec35405f3e",
   "metadata": {},
   "source": [
    "<i>Abb1</i>: [Coming soon]\n",
    "\n",
    "<img>"
   ]
  },
  {
   "cell_type": "markdown",
   "id": "b7e0c43d-3b28-4998-aab5-2385cf633b15",
   "metadata": {},
   "source": [
    "Als Komponente haben wir ein 20 x 20 Bild mit einem \"L\" darauf. Das L könnte ein L-förmiges Bauteil sein. Bei der Produktion werden viele dieser Komponenten hergestellt.Mit der Synthetisierung dieser Bilder können wir mehr Daten generieren, die für das Training eines CNN verwendet werden können, um Abweichungen besser abzudecken. \n",
    "\n",
    "Wir gehen davon aus das es viel mehr Bilder von guten Bauteilen gibt und sehr wenige von nicht guten Bauteilen. Mit den synthetischen Bildern kann die Lücke geschlossen werden."
   ]
  },
  {
   "cell_type": "code",
   "execution_count": 57,
   "id": "a4dc49a5-c4c5-45fd-bc28-ccf5950b06cc",
   "metadata": {},
   "outputs": [],
   "source": [
    "# Imports.\n",
    "import tensorflow as tf\n",
    "import numpy as np\n",
    "import matplotlib.pyplot as plt\n",
    "\n",
    "from sklearn.preprocessing import StandardScaler"
   ]
  },
  {
   "cell_type": "markdown",
   "id": "535c6f11-affe-4908-884b-a7cb7276d894",
   "metadata": {},
   "source": [
    "<h2> Dataset </h2>"
   ]
  },
  {
   "cell_type": "markdown",
   "id": "c3ebe31d-ca05-4f7e-8330-ffff85e4f841",
   "metadata": {},
   "source": [
    "Um so ein Bild zu erstellen, kann ein Zeichenprogramm oder Numpy verwendet werden."
   ]
  },
  {
   "cell_type": "markdown",
   "id": "b112d56e-d57d-4f55-a10a-d01ffd115867",
   "metadata": {},
   "source": [
    "<i>Abb2</i>: Zeichnung L-Objekt.\n",
    "\n",
    "<img src=\"./data/img/1_gan.PNG\" width=400, height=400>"
   ]
  },
  {
   "cell_type": "markdown",
   "id": "ff631f0c-d1cd-4aa7-97f1-7923dae206c9",
   "metadata": {},
   "source": [
    "Alternativ kann auch mit Numpy eine einfache Form gezeichnet werden."
   ]
  },
  {
   "cell_type": "code",
   "execution_count": 48,
   "id": "1b93abf1-525e-4c00-8e0e-ff81b8791410",
   "metadata": {},
   "outputs": [],
   "source": [
    "# Erstelle 1 Sample. \n",
    "def create_image(color:int=1) -> np.array:\n",
    "    image = np.zeros((20, 20))  # 2D Matrix, 20x20 Pixel.\n",
    "    # img [yloc, xloc]\n",
    "    image[1:12, 7] = 1  # Zeichne Feld.\n",
    "    image[1:12, 8] = 1  # Zeichne Feld.\n",
    "\n",
    "    image[11, 9:15]  = 1  \n",
    "    image[12, 7:15] = 1  \n",
    "\n",
    "    return image"
   ]
  },
  {
   "cell_type": "code",
   "execution_count": 49,
   "id": "54c30e4a-4a7d-4574-b181-fa799441a3d4",
   "metadata": {},
   "outputs": [
    {
     "data": {
      "image/png": "[encoded data removed]",
      "text/plain": [
       "<Figure size 480x480 with 1 Axes>"
      ]
     },
     "metadata": {},
     "output_type": "display_data"
    }
   ],
   "source": [
    "img = create_image()\n",
    "plt.matshow(img)\n",
    "plt.grid()"
   ]
  },
  {
   "cell_type": "markdown",
   "id": "a8af5550-6c08-4661-9ec0-0e35e4275eb3",
   "metadata": {},
   "source": [
    "Schnell und einfach ist das Bild erstellt. "
   ]
  },
  {
   "cell_type": "markdown",
   "id": "aa8ae06f-79ff-4fe7-894b-723cd201e7d2",
   "metadata": {},
   "source": [
    "<h3>Numpy Dataset</h3>"
   ]
  },
  {
   "cell_type": "code",
   "execution_count": 67,
   "id": "d8ebb913-7b87-4430-ba91-debc3965e979",
   "metadata": {},
   "outputs": [
    {
     "data": {
      "text/plain": [
       "(950, 20, 20)"
      ]
     },
     "execution_count": 67,
     "metadata": {},
     "output_type": "execute_result"
    }
   ],
   "source": [
    "# Erstelle Dataset aus n-Samples \n",
    "def numpy_dataset(n:int):\n",
    "    return np.array([create_image() for x in range(n)])\n",
    "    \n",
    "size = 950\n",
    "dataset_numpy = numpy_dataset(size)\n",
    "dataset_numpy.shape"
   ]
  },
  {
   "cell_type": "code",
   "execution_count": 68,
   "id": "c0a83280-1fc3-4939-8394-7974b399c613",
   "metadata": {},
   "outputs": [],
   "source": [
    "dataset_numpy = dataset_numpy.reshape(size, 20, 20, 1).astype('float')"
   ]
  },
  {
   "cell_type": "code",
   "execution_count": 69,
   "id": "4c74cdfb-e749-4cd5-8f0d-3c9d1972dcd9",
   "metadata": {},
   "outputs": [],
   "source": [
    "# Dann können die Daten normalisiert werden.\n",
    "dataset_numpy_scaled = ( dataset_numpy - 0.5 ) / 0.5"
   ]
  },
  {
   "cell_type": "markdown",
   "id": "b8cc139c-8c2d-4dc2-85d2-b0de1b051556",
   "metadata": {},
   "source": [
    "<h2>GAN Model - ANN</h2>"
   ]
  },
  {
   "cell_type": "markdown",
   "id": "4e972ca2-75c2-4f35-9fd2-e22aa0317ebd",
   "metadata": {},
   "source": []
  },
  {
   "cell_type": "code",
   "execution_count": 80,
   "id": "0f9dc5c8-be09-4c10-a80a-646cd8b490fa",
   "metadata": {},
   "outputs": [],
   "source": [
    "# Generator ANN #\n",
    "gen_ann = tf.keras.Sequential([\n",
    "    tf.keras.layers.Dense(units=128, input_shape=(100,), activation='relu'),\n",
    "    tf.keras.layers.BatchNormalization(),\n",
    "    tf.keras.layers.Dense(units=400, activation='relu'),\n",
    "    tf.keras.layers.BatchNormalization(),\n",
    "    tf.keras.layers.Dense(units=400, activation='relu'),\n",
    "    tf.keras.layers.BatchNormalization(),\n",
    "    tf.keras.layers.Dense(units=20*20, activation='tanh'),\n",
    "    tf.keras.layers.Reshape((20, 20, 1))\n",
    "])\n",
    "\n",
    "gen_ann.compile(\n",
    "    optimizer = 'adam',\n",
    "    loss      = 'binary_crossentropy'\n",
    ")\n",
    "\n",
    "# Discriminator ANN # \n",
    "dic_ann = tf.keras.Sequential([\n",
    "    tf.keras.layers.Flatten(input_shape=(20,20, 1)),\n",
    "    tf.keras.layers.Dense(350, activation='relu'),\n",
    "    tf.keras.layers.Dense(450, activation='relu'),\n",
    "    tf.keras.layers.Dense(200, activation='relu'),\n",
    "    tf.keras.layers.Dense(1, activation='sigmoid')\n",
    "])\n",
    "\n",
    "dic_ann.compile(\n",
    "    optimizer = 'adam',\n",
    "    loss      = 'binary_crossentropy',\n",
    "    metrics   = 'accuracy'\n",
    ")"
   ]
  },
  {
   "cell_type": "code",
   "execution_count": null,
   "id": "2b94b048-6485-4ea0-b715-5e1333af8ee9",
   "metadata": {},
   "outputs": [],
   "source": []
  },
  {
   "cell_type": "code",
   "execution_count": null,
   "id": "b4964736-9676-4e61-8d1d-12d3200e19a0",
   "metadata": {},
   "outputs": [],
   "source": []
  },
  {
   "cell_type": "code",
   "execution_count": null,
   "id": "8d44813c-48fb-4642-9e93-d09fe42e03f1",
   "metadata": {},
   "outputs": [],
   "source": []
  },
  {
   "cell_type": "code",
   "execution_count": null,
   "id": "fcd9e492-63b5-4219-8f76-004d9353c9cf",
   "metadata": {},
   "outputs": [],
   "source": []
  },
  {
   "cell_type": "code",
   "execution_count": null,
   "id": "3d7ae8c6-3fbc-40fc-a2ff-252d46340e53",
   "metadata": {},
   "outputs": [],
   "source": []
  }
 ],
 "metadata": {
  "kernelspec": {
   "display_name": "Python 3 (ipykernel)",
   "language": "python",
   "name": "python3"
  },
  "language_info": {
   "codemirror_mode": {
    "name": "ipython",
    "version": 3
   },
   "file_extension": ".py",
   "mimetype": "text/x-python",
   "name": "python",
   "nbconvert_exporter": "python",
   "pygments_lexer": "ipython3",
   "version": "3.9.19"
  }
 },
 "nbformat": 4,
 "nbformat_minor": 5
}
